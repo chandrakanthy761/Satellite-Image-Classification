{
 "cells": [
  {
   "cell_type": "code",
   "execution_count": 61,
   "metadata": {},
   "outputs": [],
   "source": [
    "from tensorflow.keras import layers\n",
    "import matplotlib.pyplot as plt\n",
    "import tensorflow as tf\n",
    "from PIL import Image"
   ]
  },
  {
   "cell_type": "code",
   "execution_count": 44,
   "metadata": {},
   "outputs": [
    {
     "data": {
      "text/plain": [
       "(64, 64)"
      ]
     },
     "execution_count": 44,
     "metadata": {},
     "output_type": "execute_result"
    }
   ],
   "source": [
    "img=Image.open(r'Datasets\\Img\\satellite_iamge_classification\\data\\water\\SeaLake_65.jpg')\n",
    "img.size"
   ]
  },
  {
   "cell_type": "code",
   "execution_count": 39,
   "metadata": {},
   "outputs": [
    {
     "name": "stdout",
     "output_type": "stream",
     "text": [
      "Found 5631 files belonging to 4 classes.\n"
     ]
    }
   ],
   "source": [
    "data=tf.keras.utils.image_dataset_from_directory(r'Datasets\\Img\\satellite_iamge_classification\\data',image_size=(64,64),color_mode='rgb',batch_size=5631)"
   ]
  },
  {
   "cell_type": "code",
   "execution_count": 57,
   "metadata": {},
   "outputs": [],
   "source": [
    "model=tf.keras.Sequential([\n",
    "    layers.Conv2D(16,3,input_shape=(64,64,3),activation='leaky_relu'),\n",
    "    layers.MaxPool2D(),\n",
    "    layers.Conv2D(32,3,activation='leaky_relu'),\n",
    "    layers.MaxPool2D(),\n",
    "    layers.Conv2D(48,3,activation='leaky_relu'),\n",
    "    layers.MaxPool2D(), \n",
    "    layers.Flatten(),\n",
    "    layers.Dense(16,'relu'),\n",
    "    layers.Dense(4,'softmax')\n",
    "])"
   ]
  },
  {
   "cell_type": "code",
   "execution_count": 58,
   "metadata": {},
   "outputs": [
    {
     "name": "stdout",
     "output_type": "stream",
     "text": [
      "Model: \"sequential_7\"\n",
      "_________________________________________________________________\n",
      " Layer (type)                Output Shape              Param #   \n",
      "=================================================================\n",
      " conv2d_36 (Conv2D)          (None, 62, 62, 16)        448       \n",
      "                                                                 \n",
      " max_pooling2d_33 (MaxPoolin  (None, 31, 31, 16)       0         \n",
      " g2D)                                                            \n",
      "                                                                 \n",
      " conv2d_37 (Conv2D)          (None, 29, 29, 32)        4640      \n",
      "                                                                 \n",
      " max_pooling2d_34 (MaxPoolin  (None, 14, 14, 32)       0         \n",
      " g2D)                                                            \n",
      "                                                                 \n",
      " conv2d_38 (Conv2D)          (None, 12, 12, 48)        13872     \n",
      "                                                                 \n",
      " max_pooling2d_35 (MaxPoolin  (None, 6, 6, 48)         0         \n",
      " g2D)                                                            \n",
      "                                                                 \n",
      " flatten_10 (Flatten)        (None, 1728)              0         \n",
      "                                                                 \n",
      " dense_20 (Dense)            (None, 16)                27664     \n",
      "                                                                 \n",
      " dense_21 (Dense)            (None, 4)                 68        \n",
      "                                                                 \n",
      "=================================================================\n",
      "Total params: 46,692\n",
      "Trainable params: 46,692\n",
      "Non-trainable params: 0\n",
      "_________________________________________________________________\n"
     ]
    }
   ],
   "source": [
    "model.summary()"
   ]
  },
  {
   "cell_type": "code",
   "execution_count": 59,
   "metadata": {},
   "outputs": [],
   "source": [
    "model.compile(loss=tf.keras.losses.categorical_crossentropy,optimizer=tf.keras.optimizers.Adam(),metrics=['accuracy'])"
   ]
  },
  {
   "cell_type": "code",
   "execution_count": 60,
   "metadata": {},
   "outputs": [
    {
     "name": "stdout",
     "output_type": "stream",
     "text": [
      "Epoch 1/30\n",
      "113/113 [==============================] - 16s 130ms/step - loss: 0.5089 - accuracy: 0.7199\n",
      "Epoch 2/30\n",
      "113/113 [==============================] - 14s 128ms/step - loss: 0.2266 - accuracy: 0.9030\n",
      "Epoch 3/30\n",
      "113/113 [==============================] - 15s 128ms/step - loss: 0.1551 - accuracy: 0.9412\n",
      "Epoch 4/30\n",
      "113/113 [==============================] - 14s 126ms/step - loss: 0.1630 - accuracy: 0.9295\n",
      "Epoch 5/30\n",
      "113/113 [==============================] - 14s 127ms/step - loss: 0.1312 - accuracy: 0.9453\n",
      "Epoch 6/30\n",
      "113/113 [==============================] - 15s 129ms/step - loss: 0.1202 - accuracy: 0.9499\n",
      "Epoch 7/30\n",
      "113/113 [==============================] - 14s 127ms/step - loss: 0.1069 - accuracy: 0.9586\n",
      "Epoch 8/30\n",
      "113/113 [==============================] - 14s 126ms/step - loss: 0.1203 - accuracy: 0.9505\n",
      "Epoch 9/30\n",
      "113/113 [==============================] - 15s 137ms/step - loss: 0.1355 - accuracy: 0.9449\n",
      "Epoch 10/30\n",
      "113/113 [==============================] - 16s 139ms/step - loss: 0.1026 - accuracy: 0.9583\n",
      "Epoch 11/30\n",
      "113/113 [==============================] - 14s 124ms/step - loss: 0.1202 - accuracy: 0.9481\n",
      "Epoch 12/30\n",
      "113/113 [==============================] - 15s 129ms/step - loss: 0.1377 - accuracy: 0.9469\n",
      "Epoch 13/30\n",
      "113/113 [==============================] - 14s 123ms/step - loss: 0.0958 - accuracy: 0.9588\n",
      "Epoch 14/30\n",
      "113/113 [==============================] - 14s 123ms/step - loss: 0.1026 - accuracy: 0.9526\n",
      "Epoch 15/30\n",
      "113/113 [==============================] - 14s 122ms/step - loss: 0.0899 - accuracy: 0.9625\n",
      "Epoch 16/30\n",
      "113/113 [==============================] - 14s 128ms/step - loss: 0.0788 - accuracy: 0.9689\n",
      "Epoch 17/30\n",
      "113/113 [==============================] - 14s 121ms/step - loss: 0.1062 - accuracy: 0.9515\n",
      "Epoch 18/30\n",
      "113/113 [==============================] - 14s 121ms/step - loss: 0.0783 - accuracy: 0.9687\n",
      "Epoch 19/30\n",
      "113/113 [==============================] - 14s 121ms/step - loss: 0.0765 - accuracy: 0.9670\n",
      "Epoch 20/30\n",
      "113/113 [==============================] - 14s 121ms/step - loss: 0.0805 - accuracy: 0.9666\n",
      "Epoch 21/30\n",
      "113/113 [==============================] - 14s 121ms/step - loss: 0.0925 - accuracy: 0.9600\n",
      "Epoch 22/30\n",
      "113/113 [==============================] - 14s 121ms/step - loss: 0.0855 - accuracy: 0.9648\n",
      "Epoch 23/30\n",
      "113/113 [==============================] - 14s 122ms/step - loss: 0.0686 - accuracy: 0.9742\n",
      "Epoch 24/30\n",
      "113/113 [==============================] - 14s 121ms/step - loss: 0.0849 - accuracy: 0.9675\n",
      "Epoch 25/30\n",
      "113/113 [==============================] - 14s 121ms/step - loss: 0.0731 - accuracy: 0.9709\n",
      "Epoch 26/30\n",
      "113/113 [==============================] - 14s 121ms/step - loss: 0.0898 - accuracy: 0.9632\n",
      "Epoch 27/30\n",
      "113/113 [==============================] - 14s 122ms/step - loss: 0.0684 - accuracy: 0.9707\n",
      "Epoch 28/30\n",
      "113/113 [==============================] - 13s 115ms/step - loss: 0.0624 - accuracy: 0.9746\n",
      "Epoch 29/30\n",
      "113/113 [==============================] - 13s 116ms/step - loss: 0.0713 - accuracy: 0.9703\n",
      "Epoch 30/30\n",
      "113/113 [==============================] - 13s 115ms/step - loss: 0.0884 - accuracy: 0.9693\n"
     ]
    }
   ],
   "source": [
    "for features,labels in data:\n",
    "    features=tf.divide(features,255)\n",
    "    labels=tf.one_hot(labels,4)\n",
    "    record=model.fit(features,labels,batch_size=50,epochs=30)\n",
    "    "
   ]
  },
  {
   "cell_type": "code",
   "execution_count": 68,
   "metadata": {},
   "outputs": [],
   "source": [
    "tf.keras.models.save_model(model,'./../Datasets/models/satellite_image_classification.h5')"
   ]
  },
  {
   "cell_type": "code",
   "execution_count": 53,
   "metadata": {},
   "outputs": [],
   "source": [
    "model=tf.keras.models.load_model('./../Datasets/models/satellite_image_classification.h5')"
   ]
  },
  {
   "cell_type": "code",
   "execution_count": 79,
   "metadata": {},
   "outputs": [
    {
     "data": {
      "image/png": "[encoded data removed]",
      "text/plain": [
       "<Figure size 432x288 with 1 Axes>"
      ]
     },
     "metadata": {
      "needs_background": "light"
     },
     "output_type": "display_data"
    }
   ],
   "source": [
    "plt.plot(record.history['loss'],label='loss')\n",
    "plt.plot(record.history['accuracy'],label='accuracy')\n",
    "plt.legend()\n",
    "plt.show()"
   ]
  },
  {
   "cell_type": "code",
   "execution_count": null,
   "metadata": {},
   "outputs": [],
   "source": []
  }
 ],
 "metadata": {
  "kernelspec": {
   "display_name": "Python 3",
   "language": "python",
   "name": "python3"
  },
  "language_info": {
   "codemirror_mode": {
    "name": "ipython",
    "version": 3
   },
   "file_extension": ".py",
   "mimetype": "text/x-python",
   "name": "python",
   "nbconvert_exporter": "python",
   "pygments_lexer": "ipython3",
   "version": "3.8.5"
  },
  "orig_nbformat": 4,
  "vscode": {
   "interpreter": {
    "hash": "bed86c5261c2214d769a0bf21b1fb328a4538a9145d5bfa7eebc314e7c9d73eb"
   }
  }
 },
 "nbformat": 4,
 "nbformat_minor": 2
}
